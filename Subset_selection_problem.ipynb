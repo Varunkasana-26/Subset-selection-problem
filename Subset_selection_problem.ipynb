{
  "nbformat": 4,
  "nbformat_minor": 0,
  "metadata": {
    "colab": {
      "provenance": [],
      "authorship_tag": "ABX9TyOfa3lX8w5E9U3zqt9q2eNt",
      "include_colab_link": true
    },
    "kernelspec": {
      "name": "python3",
      "display_name": "Python 3"
    },
    "language_info": {
      "name": "python"
    }
  },
  "cells": [
    {
      "cell_type": "markdown",
      "metadata": {
        "id": "view-in-github",
        "colab_type": "text"
      },
      "source": [
        "<a href=\"https://colab.research.google.com/github/Varunkasana-26/Subset-selection-problem/blob/main/Subset_selection_problem.ipynb\" target=\"_parent\"><img src=\"https://colab.research.google.com/assets/colab-badge.svg\" alt=\"Open In Colab\"/></a>"
      ]
    },
    {
      "cell_type": "markdown",
      "source": [
        "1  - Find all the subsets from a set of numbers whose sum is zero."
      ],
      "metadata": {
        "id": "la5-ZwsyckU4"
      }
    },
    {
      "cell_type": "code",
      "source": [
        "#Subset size must be 5\n",
        "import random as r"
      ],
      "metadata": {
        "id": "ZR57f8TOcywf"
      },
      "execution_count": 7,
      "outputs": []
    },
    {
      "cell_type": "code",
      "source": [
        "Set ={-12, -3, -6, 7, 2, -2, 6, 3, 9, -7, -5, -8, 1, 11, -9, -4}\n",
        "setsize = 5\n",
        "ResultList = set()\n",
        "Interations = 1000"
      ],
      "metadata": {
        "id": "Fyah47tyc_zw"
      },
      "execution_count": 8,
      "outputs": []
    },
    {
      "cell_type": "code",
      "source": [
        "for i in range(Interations):\n",
        "    subset=r.sample(Set,setsize)\n",
        "    subset.sort()\n",
        "    if sum(subset) == 0:\n",
        "      ResultList.add(tuple(subset))"
      ],
      "metadata": {
        "colab": {
          "base_uri": "https://localhost:8080/"
        },
        "id": "3OCevvLBdb8M",
        "outputId": "93916033-465d-45d8-8596-ed0fb2fabb6f"
      },
      "execution_count": 9,
      "outputs": [
        {
          "output_type": "stream",
          "name": "stderr",
          "text": [
            "<ipython-input-9-09adb52b42d6>:2: DeprecationWarning: Sampling from a set deprecated\n",
            "since Python 3.9 and will be removed in a subsequent version.\n",
            "  subset=r.sample(Set,setsize)\n"
          ]
        }
      ]
    },
    {
      "cell_type": "code",
      "source": [
        "# Print all the sets whose sum is zero\n",
        "for r in ResultList:\n",
        "\tprint (r)\n",
        "\n",
        "# Print total sets\n",
        "print (\"\\nTotal Sets: \", len(ResultList), \"\\n\")"
      ],
      "metadata": {
        "colab": {
          "base_uri": "https://localhost:8080/"
        },
        "id": "-ceVcEP7R8sO",
        "outputId": "57f4025e-3c49-4f8b-fb1c-218b29bced09"
      },
      "execution_count": 10,
      "outputs": [
        {
          "output_type": "stream",
          "name": "stdout",
          "text": [
            "(-12, -3, 2, 6, 7)\n",
            "(-9, -3, 2, 3, 7)\n",
            "(-12, -6, 1, 6, 11)\n",
            "(-8, -4, -3, 6, 9)\n",
            "(-12, -3, -2, 6, 11)\n",
            "(-9, -2, 2, 3, 6)\n",
            "(-6, -4, 1, 2, 7)\n",
            "(-12, 1, 2, 3, 6)\n",
            "(-9, -4, -3, 7, 9)\n",
            "(-8, -3, -2, 6, 7)\n",
            "(-12, -7, 2, 6, 11)\n",
            "(-9, -6, -3, 7, 11)\n",
            "(-6, -5, 2, 3, 6)\n",
            "(-8, -4, -2, 3, 11)\n",
            "(-8, -4, 1, 2, 9)\n",
            "(-12, -8, 3, 6, 11)\n",
            "(-8, -7, -5, 9, 11)\n",
            "(-7, -5, 1, 2, 9)\n",
            "(-6, -5, -4, 6, 9)\n",
            "(-6, -3, -2, 2, 9)\n",
            "(-9, -4, -2, 6, 9)\n",
            "(-12, -9, 3, 7, 11)\n",
            "(-7, -6, -4, 6, 11)\n",
            "(-12, -9, 1, 9, 11)\n",
            "\n",
            "Total Sets:  24 \n",
            "\n"
          ]
        }
      ]
    }
  ]
}